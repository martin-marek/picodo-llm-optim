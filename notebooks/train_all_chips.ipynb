{
 "cells": [
  {
   "cell_type": "code",
   "execution_count": null,
   "id": "359dc1be-501e-4c96-9f50-5de3389e3639",
   "metadata": {},
   "outputs": [],
   "source": [
    "# set working directory\n",
    "import os\n",
    "os.chdir('~/picodo-llm-optim')"
   ]
  },
  {
   "cell_type": "code",
   "execution_count": null,
   "id": "2137bfd7-314c-4e40-9c73-903e5a1c9ed1",
   "metadata": {},
   "outputs": [],
   "source": [
    "# use all 4 tpu chips\n",
    "os.environ['TPU_CHIPS_PER_PROCESS_BOUNDS'] = '2,2,1'\n",
    "os.environ['TPU_PROCESS_BOUNDS'] = '1,1,1'\n",
    "os.environ['TPU_VISIBLE_DEVICES'] = '0,1,2,3'"
   ]
  },
  {
   "cell_type": "code",
   "execution_count": null,
   "id": "63d25f2c-d021-44ff-adf8-310793e8436f",
   "metadata": {},
   "outputs": [],
   "source": [
    "from hydra import compose, initialize\n",
    "import train\n",
    "\n",
    "# load default tpu config\n",
    "with initialize(version_base=None, config_path='configs'):\n",
    "    c = compose(config_name='tpuvm')\n",
    "    \n",
    "    # optionally override config\n",
    "    c.wandb_project = 'picodo-test'\n",
    "    c.run_name = 'bs:32 test'\n",
    "    c.opt.train_microbatch_size = 32\n",
    "    c.opt.peak_learning_rate = 0.002\n",
    "    \n",
    "    # run training job\n",
    "    train.train_and_evaluate(c)"
   ]
  }
 ],
 "metadata": {
  "kernelspec": {
   "display_name": "Python 3 (ipykernel)",
   "language": "python",
   "name": "python3"
  },
  "language_info": {
   "codemirror_mode": {
    "name": "ipython",
    "version": 3
   },
   "file_extension": ".py",
   "mimetype": "text/x-python",
   "name": "python",
   "nbconvert_exporter": "python",
   "pygments_lexer": "ipython3",
   "version": "3.12.8"
  }
 },
 "nbformat": 4,
 "nbformat_minor": 5
}
