{
 "cells": [
  {
   "cell_type": "code",
   "execution_count": null,
   "id": "ba0e29f0-6ebc-4193-9dcf-b49d2deb6a97",
   "metadata": {},
   "outputs": [],
   "source": [
    "# set working directory\n",
    "import os\n",
    "os.chdir('/home/martin/picodo-llm-optim')"
   ]
  },
  {
   "cell_type": "code",
   "execution_count": null,
   "id": "e2e1af94-0f5e-44b4-9139-1f28291132fe",
   "metadata": {},
   "outputs": [],
   "source": [
    "# use all 4 tpu chips\n",
    "os.environ['TPU_CHIPS_PER_PROCESS_BOUNDS'] = '2,2,1'\n",
    "os.environ['TPU_PROCESS_BOUNDS'] = '1,1,1'\n",
    "os.environ['TPU_VISIBLE_DEVICES'] = '0,1,2,3'"
   ]
  },
  {
   "cell_type": "code",
   "execution_count": null,
   "id": "8f5c4b07-0419-4b33-a651-dabbbf2461c5",
   "metadata": {},
   "outputs": [],
   "source": [
    "from hydra import compose, initialize\n",
    "from omegaconf import OmegaConf\n",
    "import train\n",
    "\n",
    "# load default tpu config\n",
    "with initialize(version_base=None, config_path='../configs'):\n",
    "    c = compose(config_name='tpuvm')\n",
    "    OmegaConf.set_struct(c, False)\n",
    "    \n",
    "    # optionally override config\n",
    "    c.wandb_project = 'picodo-test'\n",
    "    c.run_name = 'bs:32 test'\n",
    "    c.opt.train_microbatch_size = 32\n",
    "    c.opt.peak_learning_rate = 0.002\n",
    "    \n",
    "    # run training job\n",
    "    train.train_and_evaluate(c)"
   ]
  }
 ],
 "metadata": {
  "kernelspec": {
   "display_name": "Python 3 (ipykernel)",
   "language": "python",
   "name": "python3"
  },
  "language_info": {
   "codemirror_mode": {
    "name": "ipython",
    "version": 3
   },
   "file_extension": ".py",
   "mimetype": "text/x-python",
   "name": "python",
   "nbconvert_exporter": "python",
   "pygments_lexer": "ipython3",
   "version": "3.12.8"
  }
 },
 "nbformat": 4,
 "nbformat_minor": 5
}
