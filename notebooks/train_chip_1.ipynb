{
 "cells": [
  {
   "cell_type": "code",
   "execution_count": null,
   "id": "8c9de6e5-aabe-4532-9aeb-e3c40243abe0",
   "metadata": {},
   "outputs": [],
   "source": [
    "# set working directory\n",
    "import os\n",
    "os.chdir('~/picodo-llm-optim')"
   ]
  },
  {
   "cell_type": "code",
   "execution_count": 1,
   "id": "6b69ab8e-9513-465e-9650-6b5b5fdf40cf",
   "metadata": {},
   "outputs": [],
   "source": [
    "# use chip 1\n",
    "os.environ['TPU_CHIPS_PER_PROCESS_BOUNDS'] = '1,1,1'\n",
    "os.environ['TPU_PROCESS_BOUNDS'] = '1,1,1'\n",
    "os.environ['TPU_VISIBLE_DEVICES'] = '1'"
   ]
  },
  {
   "cell_type": "code",
   "execution_count": null,
   "id": "7f7f015b-dd9b-4559-9028-a5755edac4a3",
   "metadata": {},
   "outputs": [],
   "source": [
    "from hydra import compose, initialize\n",
    "import train\n",
    "\n",
    "# load default tpu config\n",
    "with initialize(version_base=None, config_path='configs'):\n",
    "    c = compose(config_name='tpuvm')\n",
    "    \n",
    "    # optionally override config\n",
    "    c.wandb_project = 'picodo-test'\n",
    "    c.run_name = 'bs:1 test'\n",
    "    c.opt.train_microbatch_size = 64\n",
    "    opt.single_step_training = True\n",
    "    opt.eval_batch_size = 16\n",
    "    c.opt.peak_learning_rate = 0.0002\n",
    "    c.opt.adam_t2_t1_ratio = 24\n",
    "    c.opt.weight_decay = 0.05\n",
    "    \n",
    "    # run training job\n",
    "    train.train_and_evaluate(c)"
   ]
  }
 ],
 "metadata": {
  "kernelspec": {
   "display_name": "Python 3 (ipykernel)",
   "language": "python",
   "name": "python3"
  },
  "language_info": {
   "codemirror_mode": {
    "name": "ipython",
    "version": 3
   },
   "file_extension": ".py",
   "mimetype": "text/x-python",
   "name": "python",
   "nbconvert_exporter": "python",
   "pygments_lexer": "ipython3",
   "version": "3.12.8"
  }
 },
 "nbformat": 4,
 "nbformat_minor": 5
}
