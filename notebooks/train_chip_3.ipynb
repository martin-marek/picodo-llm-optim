{
 "cells": [
  {
   "cell_type": "code",
   "execution_count": null,
   "id": "92097b88-f65e-496d-b827-ca7d22e3519d",
   "metadata": {},
   "outputs": [],
   "source": [
    "# set working directory\n",
    "import os\n",
    "os.chdir('/home/martin/picodo-llm-optim')"
   ]
  },
  {
   "cell_type": "code",
   "execution_count": 1,
   "id": "6b69ab8e-9513-465e-9650-6b5b5fdf40cf",
   "metadata": {},
   "outputs": [],
   "source": [
    "# use chip 3\n",
    "os.environ['TPU_CHIPS_PER_PROCESS_BOUNDS'] = '1,1,1'\n",
    "os.environ['TPU_PROCESS_BOUNDS'] = '1,1,1'\n",
    "os.environ['TPU_VISIBLE_DEVICES'] = '3'"
   ]
  },
  {
   "cell_type": "code",
   "execution_count": null,
   "id": "7f7f015b-dd9b-4559-9028-a5755edac4a3",
   "metadata": {},
   "outputs": [],
   "source": [
    "from hydra import compose, initialize\n",
    "from omegaconf import OmegaConf\n",
    "import train\n",
    "\n",
    "# load default tpu config\n",
    "with initialize(version_base=None, config_path='../configs'):\n",
    "    c = compose(config_name='tpuvm')\n",
    "    OmegaConf.set_struct(c, False)\n",
    "    \n",
    "    # optionally override config\n",
    "    c.wandb_project = 'picodo-test'\n",
    "    c.run_name = 'bs:1 test'\n",
    "    c.opt.train_microbatch_size = 1\n",
    "    c.opt.eval_batch_size = 16\n",
    "    c.opt.peak_learning_rate = 0.002\n",
    "    c.opt.weight_decay = 0.05\n",
    "    \n",
    "    # run training job\n",
    "    train.train_and_evaluate(c)"
   ]
  }
 ],
 "metadata": {
  "kernelspec": {
   "display_name": "Python 3 (ipykernel)",
   "language": "python",
   "name": "python3"
  },
  "language_info": {
   "codemirror_mode": {
    "name": "ipython",
    "version": 3
   },
   "file_extension": ".py",
   "mimetype": "text/x-python",
   "name": "python",
   "nbconvert_exporter": "python",
   "pygments_lexer": "ipython3",
   "version": "3.12.8"
  }
 },
 "nbformat": 4,
 "nbformat_minor": 5
}
